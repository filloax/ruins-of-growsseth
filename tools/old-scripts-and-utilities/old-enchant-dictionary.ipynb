{
 "cells": [
  {
   "cell_type": "markdown",
   "metadata": {},
   "source": [
    "# Dizionario di enchantese\n",
    "\n",
    "Inserire sotto una stringa in enchantese e fare clic su esegui, in fondo sbucherà la traduzione (rimuovendo punteggiatura, accenti, e maiuscole in minuscole)"
   ]
  },
  {
   "cell_type": "code",
   "execution_count": 11,
   "metadata": {},
   "outputs": [],
   "source": [
    "input = \"\"\"Lorem ipsum dolor sit amet, consectetur adipiscing elit. \n",
    "Morbi dignissim mollis felis, non blandit nibh varius commodo. Donec \n",
    "aliquet congue efficitur. Orci varius natoque penatibus et magnis dis \n",
    "parturient montes, nascetur ridiculus mus. Integer sed volutpat nisl. \n",
    "Nunc auctor volutpat vestibulum. Nullam et dui at diam consequat \n",
    "fermentum. Nulla facilisi. Pellentesque habitant morbi tristique \n",
    "senectus et netus et malesuada fames ac turpis egestas. Sed accumsan \n",
    "dignissim mauris a commodo.\n",
    "\n",
    "Caffè e altre parole sì dotate di accento, già.\n",
    "\n",
    "Integer urna tortor, dapibus in arcu eu, porttitor posuere eros. Etiam \n",
    "accumsan dui in urna sagittis volutpat. Mauris nec nisl elit. Nulla \n",
    "non arcu sit amet nulla pretium suscipit at eu turpis. Aliquam purus \n",
    "urna, fermentum at accumsan et, vulputate ut orci. Pellentesque id nibh \n",
    "semper, vestibulum nunc vel, blandit sapien. Donec consectetur vehicula \n",
    "pellentesque. Morbi vestibulum nulla vitae arcu convallis porttitor.\"\"\""
   ]
  },
  {
   "cell_type": "code",
   "execution_count": 2,
   "metadata": {},
   "outputs": [],
   "source": [
    "import re\n",
    "import unicodedata"
   ]
  },
  {
   "cell_type": "code",
   "execution_count": 13,
   "metadata": {},
   "outputs": [],
   "source": [
    "ascii_galactic_dict = {\n",
    "    \"a\": \"ᔑ\",\n",
    "    \"b\": \"ʖ\",\n",
    "    \"c\": \"ᓵ\",\n",
    "    \"d\": \"↸\",\n",
    "    \"e\": \"ᒷ\",\n",
    "    \"f\": \"⎓\",\n",
    "    \"g\": \"⊣\",\n",
    "    \"h\": \"⍑\",\n",
    "    \"i\": \"╎\",\n",
    "    \"j\": \"⋮\",\n",
    "    \"k\": \"ꖌ\",\n",
    "    \"l\": \"ꖎ\",\n",
    "    \"m\": \"ᒲ\",\n",
    "    \"n\": \"リ\",\n",
    "    \"o\": \"𝙹\",\n",
    "    \"p\": \"!¡\",\n",
    "    \"q\": \"ᑑ\",\n",
    "    \"r\": \"∷\",\n",
    "    \"s\": \"ᓭ\",\n",
    "    \"t\": \"ℸ ̣\",\n",
    "    \"u\": \"⚍\",\n",
    "    \"v\": \"⍊\",\n",
    "    \"w\": \"∴\",\n",
    "    \"x\": \" ̇/\",\n",
    "    \"y\": \"||\",\n",
    "    \"z\": \"⨅\",\n",
    "}\n",
    "def strip_accents(s):\n",
    "   return ''.join(c for c in unicodedata.normalize('NFD', s)\n",
    "                  if unicodedata.category(c) != 'Mn')\n",
    "def to_enchanting_table(string: str):\n",
    "    processed = string.lower().strip()\n",
    "    processed = strip_accents(processed)\n",
    "    processed = re.sub(r'[^\\w\\s]+', '', processed)\n",
    "    return ''.join(ascii_galactic_dict[char] if char in ascii_galactic_dict else char for char in processed)"
   ]
  },
  {
   "cell_type": "code",
   "execution_count": 12,
   "metadata": {},
   "outputs": [
    {
     "name": "stdout",
     "output_type": "stream",
     "text": [
      "lorem ipsum dolor sit amet consectetur adipiscing elit \n",
      "morbi dignissim mollis felis non blandit nibh varius commodo donec \n",
      "aliquet congue efficitur orci varius natoque penatibus et magnis dis \n",
      "parturient montes nascetur ridiculus mus integer sed volutpat nisl \n",
      "nunc auctor volutpat vestibulum nullam et dui at diam consequat \n",
      "fermentum nulla facilisi pellentesque habitant morbi tristique \n",
      "senectus et netus et malesuada fames ac turpis egestas sed accumsan \n",
      "dignissim mauris a commodo\n",
      "\n",
      "caffe e altre parole si dotate di accento gia\n",
      "\n",
      "integer urna tortor dapibus in arcu eu porttitor posuere eros etiam \n",
      "accumsan dui in urna sagittis volutpat mauris nec nisl elit nulla \n",
      "non arcu sit amet nulla pretium suscipit at eu turpis aliquam purus \n",
      "urna fermentum at accumsan et vulputate ut orci pellentesque id nibh \n",
      "semper vestibulum nunc vel blandit sapien donec consectetur vehicula \n",
      "pellentesque morbi vestibulum nulla vitae arcu convallis porttitor\n"
     ]
    }
   ],
   "source": [
    "print(to_enchanting_table(input))"
   ]
  }
 ],
 "metadata": {
  "kernelspec": {
   "display_name": ".venv",
   "language": "python",
   "name": "python3"
  },
  "language_info": {
   "codemirror_mode": {
    "name": "ipython",
    "version": 3
   },
   "file_extension": ".py",
   "mimetype": "text/x-python",
   "name": "python",
   "nbconvert_exporter": "python",
   "pygments_lexer": "ipython3",
   "version": "3.11.2"
  }
 },
 "nbformat": 4,
 "nbformat_minor": 2
}
